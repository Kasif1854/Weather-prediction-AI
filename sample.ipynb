{
 "cells": [
  {
   "cell_type": "markdown",
   "metadata": {},
   "source": [
    "# Machine Learning meets Climate Change"
   ]
  },
  {
   "cell_type": "code",
   "execution_count": 4,
   "metadata": {},
   "outputs": [
    {
     "ename": "ModuleNotFoundError",
     "evalue": "No module named 'mapclassify'",
     "output_type": "error",
     "traceback": [
      "\u001b[0;31m---------------------------------------------------------------------------\u001b[0m",
      "\u001b[0;31mModuleNotFoundError\u001b[0m                       Traceback (most recent call last)",
      "\u001b[0;32m/tmp/ipykernel_328/24175450.py\u001b[0m in \u001b[0;36m<module>\u001b[0;34m\u001b[0m\n\u001b[1;32m     10\u001b[0m \u001b[0;31m#import geoplot.crs as gcrs\u001b[0m\u001b[0;34m\u001b[0m\u001b[0;34m\u001b[0m\u001b[0m\n\u001b[1;32m     11\u001b[0m \u001b[0;32mimport\u001b[0m \u001b[0mimageio\u001b[0m\u001b[0;34m\u001b[0m\u001b[0;34m\u001b[0m\u001b[0m\n\u001b[0;32m---> 12\u001b[0;31m \u001b[0;32mimport\u001b[0m \u001b[0mmapclassify\u001b[0m \u001b[0;32mas\u001b[0m \u001b[0mmc\u001b[0m\u001b[0;34m\u001b[0m\u001b[0;34m\u001b[0m\u001b[0m\n\u001b[0m\u001b[1;32m     13\u001b[0m \u001b[0;32mimport\u001b[0m \u001b[0mstatsmodels\u001b[0m\u001b[0;34m.\u001b[0m\u001b[0mapi\u001b[0m \u001b[0;32mas\u001b[0m \u001b[0msm\u001b[0m\u001b[0;34m\u001b[0m\u001b[0;34m\u001b[0m\u001b[0m\n\u001b[1;32m     14\u001b[0m \u001b[0;32mfrom\u001b[0m \u001b[0mstatsmodels\u001b[0m\u001b[0;34m.\u001b[0m\u001b[0mtsa\u001b[0m\u001b[0;34m.\u001b[0m\u001b[0mstattools\u001b[0m \u001b[0;32mimport\u001b[0m \u001b[0madfuller\u001b[0m\u001b[0;34m\u001b[0m\u001b[0;34m\u001b[0m\u001b[0m\n",
      "\u001b[0;31mModuleNotFoundError\u001b[0m: No module named 'mapclassify'"
     ]
    }
   ],
   "source": [
    "import pandas as pd\n",
    "import numpy as np \n",
    "import matplotlib.pyplot as plt \n",
    "import folium\n",
    "import imageio\n",
    "from tqdm import tqdm_notebook\n",
    "from folium.plugins import MarkerCluster\n",
    "import geoplot as gplt\n",
    "import geopandas as gpd\n",
    "import geoplot.crs as gcrs\n",
    "import imageio\n",
    "import mapclassify as mc\n",
    "import statsmodels.api as sm\n",
    "from statsmodels.tsa.stattools import adfuller\n",
    "from statsmodels.tsa.arima_model import ARIMA\n",
    "import scipy\n",
    "from itertools import product\n",
    "import seaborn as sns\n",
    "from statsmodels.graphics.tsaplots import plot_pacf\n",
    "from statsmodels.graphics.tsaplots import plot_acf\n",
    "from statsmodels.tsa.arima_process import ArmaProcess\n",
    "from statsmodels.stats.diagnostic import acorr_ljungbox\n",
    "from statsmodels.tsa.statespace.sarimax import SARIMAX\n",
    "from statsmodels.tsa.stattools import adfuller\n",
    "from statsmodels.tsa.stattools import pacf\n",
    "from statsmodels.tsa.stattools import acf\n",
    "\n",
    "plt.style.use('ggplot')\n",
    "plt.rcParams['font.family'] = 'sans-serif' \n",
    "plt.rcParams['font.serif'] = 'Ubuntu' \n",
    "plt.rcParams['font.monospace'] = 'Ubuntu Mono' \n",
    "plt.rcParams['font.size'] = 14 \n",
    "plt.rcParams['axes.labelsize'] = 12 \n",
    "plt.rcParams['axes.labelweight'] = 'bold' \n",
    "plt.rcParams['axes.titlesize'] = 12 \n",
    "plt.rcParams['xtick.labelsize'] = 12 \n",
    "plt.rcParams['ytick.labelsize'] = 12 \n",
    "plt.rcParams['legend.fontsize'] = 12 \n",
    "plt.rcParams['figure.titlesize'] = 12 \n",
    "plt.rcParams['image.cmap'] = 'jet' \n",
    "plt.rcParams['image.interpolation'] = 'none' \n",
    "plt.rcParams['figure.figsize'] = (12, 10) \n",
    "plt.rcParams['axes.grid']=True\n",
    "plt.rcParams['lines.linewidth'] = 2 \n",
    "plt.rcParams['lines.markersize'] = 8\n",
    "colors = ['xkcd:pale orange', 'xkcd:sea blue', 'xkcd:pale red', 'xkcd:sage green', 'xkcd:terra cotta', 'xkcd:dull purple', 'xkcd:teal', 'xkcd: goldenrod', 'xkcd:cadet blue',\n",
    "'xkcd:scarlet']"
   ]
  },
  {
   "cell_type": "code",
   "execution_count": null,
   "metadata": {},
   "outputs": [],
   "source": [
    "data = pd.read_csv('GlobalLandTemperaturesByMajorCity.csv')"
   ]
  },
  {
   "cell_type": "markdown",
   "metadata": {},
   "source": [
    "# Data Visualization"
   ]
  },
  {
   "cell_type": "code",
   "execution_count": null,
   "metadata": {},
   "outputs": [],
   "source": [
    "city_data = data.drop_duplicates(['City'])"
   ]
  },
  {
   "cell_type": "code",
   "execution_count": null,
   "metadata": {},
   "outputs": [],
   "source": [
    "city_data.head()"
   ]
  },
  {
   "cell_type": "code",
   "execution_count": null,
   "metadata": {},
   "outputs": [],
   "source": [
    "LAT = []\n",
    "LONG = []\n",
    "for city in city_data.City.tolist():\n",
    "    locator = Nominatim(user_agent=\"myGeocoder\")\n",
    "    location = locator.geocode(city)\n",
    "    LAT.append(location.latitude)\n",
    "    LONG.append(location.longitude)\n",
    "    \n"
   ]
  },
  {
   "cell_type": "code",
   "execution_count": null,
   "metadata": {},
   "outputs": [],
   "source": [
    "city_data['Latitude'] = LAT\n",
    "city_data['Longitude'] = LONG"
   ]
  },
  {
   "cell_type": "code",
   "execution_count": null,
   "metadata": {},
   "outputs": [],
   "source": [
    "from geopy.geocoders import Nominatim\n",
    "\n",
    "world_map= folium.Map()\n",
    "geolocator = Nominatim(user_agent=\"Piero\")\n",
    "marker_cluster = MarkerCluster().add_to(world_map)\n",
    "\n",
    "for i in range(len(city_data)):\n",
    "        lat = city_data.iloc[i]['Latitude']\n",
    "        long = city_data.iloc[i]['Longitude']\n",
    "        radius=5\n",
    "        folium.CircleMarker(location = [lat, long], radius=radius,fill =True, color='darkred',fill_color='darkred').add_to(marker_cluster)"
   ]
  },
  {
   "cell_type": "code",
   "execution_count": null,
   "metadata": {},
   "outputs": [],
   "source": [
    "world_map"
   ]
  },
  {
   "cell_type": "code",
   "execution_count": null,
   "metadata": {},
   "outputs": [],
   "source": [
    "explodes = (0,0.3)\n",
    "plt.pie(data[data['City']=='Delhi'].AverageTemperature.isna().value_counts(),explode=explodes,startangle=0,colors=['firebrick','indianred'],\n",
    "   labels=['Non NaN elements','NaN elements'], textprops={'fontsize': 20})"
   ]
  },
  {
   "cell_type": "code",
   "execution_count": null,
   "metadata": {},
   "outputs": [],
   "source": [
    "delhi_data = data[data['City']=='Delhi']"
   ]
  },
  {
   "cell_type": "code",
   "execution_count": null,
   "metadata": {},
   "outputs": [],
   "source": [
    "delhi_data['AverageTemperature']=delhi_data.AverageTemperature.fillna(method='bfill')"
   ]
  },
  {
   "cell_type": "code",
   "execution_count": null,
   "metadata": {},
   "outputs": [],
   "source": [
    "delhi_data['AverageTemperatureUncertainty']=delhi_data.AverageTemperatureUncertainty.fillna(method='bfill')"
   ]
  },
  {
   "cell_type": "code",
   "execution_count": null,
   "metadata": {},
   "outputs": [],
   "source": [
    "delhi_data = delhi_data.reset_index()"
   ]
  },
  {
   "cell_type": "code",
   "execution_count": null,
   "metadata": {},
   "outputs": [],
   "source": [
    "delhi_data = delhi_data.drop(columns=['index'])"
   ]
  },
  {
   "cell_type": "code",
   "execution_count": null,
   "metadata": {},
   "outputs": [],
   "source": [
    "delhi_data.dt = pd.to_datetime(delhi_data.dt)"
   ]
  },
  {
   "cell_type": "code",
   "execution_count": null,
   "metadata": {},
   "outputs": [],
   "source": [
    "YEAR = []\n",
    "MONTH = []\n",
    "DAY = []\n",
    "WEEKDAY = []\n",
    "for i in range(len(delhi_data)):\n",
    "    WEEKDAY.append(delhi_data.dt[i].weekday())\n",
    "    DAY.append(delhi_data.dt[i].day)\n",
    "    MONTH.append(delhi_data.dt[i].month)\n",
    "    YEAR.append(delhi_data.dt[i].year)"
   ]
  },
  {
   "cell_type": "code",
   "execution_count": null,
   "metadata": {},
   "outputs": [],
   "source": [
    "delhi_data['Year'] = YEAR\n",
    "delhi_data['Month'] = MONTH\n",
    "delhi_data['Day'] = DAY \n",
    "delhi_data['Weekday'] = WEEKDAY"
   ]
  },
  {
   "cell_type": "code",
   "execution_count": null,
   "metadata": {},
   "outputs": [],
   "source": [
    "change_year_index = []\n",
    "change_year = []\n",
    "year_list = delhi_data['Year'].tolist()\n",
    "for y in range(0,len(year_list)-1):\n",
    "    if year_list[y]!=year_list[y+1]:\n",
    "        change_year.append(year_list[y+1])\n",
    "        change_year_index.append(y+1)"
   ]
  },
  {
   "cell_type": "code",
   "execution_count": null,
   "metadata": {},
   "outputs": [],
   "source": [
    "delhi_data.loc[change_year_index].head()"
   ]
  },
  {
   "cell_type": "code",
   "execution_count": null,
   "metadata": {},
   "outputs": [],
   "source": [
    "x_ticks_year_list=np.linspace(min(year_list),max(year_list),10).astype(int)\n",
    "change_year_index = np.array(change_year_index)\n",
    "x_ticks_year_index = []\n",
    "for i in range(1,len(x_ticks_year_list)):\n",
    "    x_ticks_year_index.append(change_year_index[np.where(np.array(change_year)==x_ticks_year_list[i])][0])"
   ]
  },
  {
   "cell_type": "code",
   "execution_count": null,
   "metadata": {},
   "outputs": [],
   "source": [
    "sns.scatterplot(x=delhi_data.index,y=delhi_data.AverageTemperature,s=25,color='firebrick')\n",
    "plt.xticks(x_ticks_year_index,x_ticks_year_list)\n",
    "plt.title('Temperature vs Year Scatter plot',color='firebrick',fontsize=40)\n",
    "plt.xlabel('Year')\n",
    "plt.ylabel('Average Temperature')"
   ]
  },
  {
   "cell_type": "code",
   "execution_count": null,
   "metadata": {},
   "outputs": [],
   "source": [
    "last_year_data = delhi_data[delhi_data.Year>=2010].reset_index().drop(columns=['index'])\n",
    "P = np.linspace(0,len(last_year_data)-1,5).astype(int)"
   ]
  },
  {
   "cell_type": "code",
   "execution_count": null,
   "metadata": {},
   "outputs": [],
   "source": [
    "def get_timeseries(start_year,end_year):\n",
    "    last_year_data = delhi_data[(delhi_data.Year>=start_year) & (delhi_data.Year<=end_year)].reset_index().drop(columns=['index'])\n",
    "    return last_year_data"
   ]
  },
  {
   "cell_type": "code",
   "execution_count": null,
   "metadata": {},
   "outputs": [],
   "source": [
    "def plot_timeseries(start_year,end_year):\n",
    "    last_year_data = get_timeseries(start_year,end_year)\n",
    "    P = np.linspace(0,len(last_year_data)-1,5).astype(int)\n",
    "    plt.plot(last_year_data.AverageTemperature,marker='.',color='firebrick')\n",
    "    plt.xticks(np.arange(0,len(last_year_data),1)[P],last_year_data.dt.loc[P],rotation=60)\n",
    "    plt.xlabel('Date (Y/M/D)')\n",
    "    plt.ylabel('Average Temperature')"
   ]
  },
  {
   "cell_type": "code",
   "execution_count": null,
   "metadata": {},
   "outputs": [],
   "source": [
    "def plot_from_data(data,time,c='firebrick',with_ticks=True,label=None):\n",
    "    time = time.tolist()\n",
    "    data = np.array(data.tolist())\n",
    "    P = np.linspace(0,len(data)-1,5).astype(int)\n",
    "    time = np.array(time)\n",
    "    if label==None:\n",
    "        plt.plot(data,marker='.',color=c)\n",
    "    else:\n",
    "        plt.plot(data,marker='.',color=c,label=label)\n",
    "    if with_ticks==True:\n",
    "        plt.xticks(np.arange(0,len(data),1)[P],time[P],rotation=60)\n",
    "    plt.xlabel('Date (Y/M/D)')\n",
    "    plt.ylabel('Average Temperature')"
   ]
  },
  {
   "cell_type": "code",
   "execution_count": null,
   "metadata": {},
   "outputs": [],
   "source": [
    "plt.figure(figsize=(20,20))\n",
    "plt.suptitle('Plotting 4 decades',fontsize=40,color='firebrick')\n",
    "\n",
    "plt.subplot(2,2,1)\n",
    "plt.title('Starting year: 1800, Ending Year: 1810',fontsize=15)\n",
    "plot_timeseries(1800,1810)\n",
    "plt.subplot(2,2,2)\n",
    "plt.title('Starting year: 1900, Ending Year: 1910',fontsize=15)\n",
    "plot_timeseries(1900,1910)\n",
    "plt.subplot(2,2,3)\n",
    "plt.title('Starting year: 1950, Ending Year: 1960',fontsize=15)\n",
    "plot_timeseries(1900,1910)\n",
    "plt.subplot(2,2,4)\n",
    "plt.title('Starting year: 2000, Ending Year: 2010',fontsize=15)\n",
    "plot_timeseries(1900,1910)\n",
    "plt.tight_layout()"
   ]
  },
  {
   "cell_type": "code",
   "execution_count": null,
   "metadata": {},
   "outputs": [],
   "source": [
    "FFT = np.fft.fft(delhi_data.AverageTemperature)\n",
    "FFT_abs = np.abs(FFT)\n",
    "new_N=int(len(FFT)/2) \n",
    "f_nat=1\n",
    "new_X = np.linspace(0, f_nat/2, new_N, endpoint=True)\n",
    "new_X = 1/new_X\n",
    "plt.plot(new_X,2*FFT_abs[0:int(len(FFT)/2.)]/len(new_X),color='firebrick')\n",
    "plt.xlabel('Period ($Month$)',fontsize=20)\n",
    "plt.ylabel('Amplitude',fontsize=20)\n",
    "plt.title('(Fast) Fourier Transform Method Algorithm',fontsize=30,color='firebrick')\n",
    "plt.grid(True)\n",
    "plt.xlim(2,22)"
   ]
  },
  {
   "cell_type": "markdown",
   "metadata": {},
   "source": [
    "# Checking on Stationarity"
   ]
  },
  {
   "cell_type": "code",
   "execution_count": null,
   "metadata": {},
   "outputs": [],
   "source": [
    "fig = plt.figure(figsize=(12,8))\n",
    "ax1 = fig.add_subplot(211)\n",
    "fig = sm.graphics.tsa.plot_acf(delhi_data.AverageTemperature, ax=ax1,color ='firebrick')\n",
    "ax2 = fig.add_subplot(212)\n",
    "fig = sm.graphics.tsa.plot_pacf(delhi_data.AverageTemperature, ax=ax2,color='firebrick')"
   ]
  },
  {
   "cell_type": "code",
   "execution_count": null,
   "metadata": {},
   "outputs": [],
   "source": [
    "result = adfuller(delhi_data.AverageTemperature)\n",
    "print('ADF Statistic on the entire dataset: {}'.format(result[0]))\n",
    "print('p-value: {}'.format(result[1]))\n",
    "print('Critical Values:')\n",
    "for key, value in result[4].items():\n",
    "    print('\\t{}: {}'.format(key, value))"
   ]
  },
  {
   "cell_type": "code",
   "execution_count": null,
   "metadata": {},
   "outputs": [],
   "source": [
    "result = adfuller(delhi_data.AverageTemperature[0:120])\n",
    "print('ADF Statistic on the first decade: {}'.format(result[0]))\n",
    "print('p-value: {}'.format(result[1]))\n",
    "print('Critical Values:')\n",
    "for key, value in result[4].items():\n",
    "    print('\\t{}: {}'.format(key, value))"
   ]
  },
  {
   "cell_type": "code",
   "execution_count": null,
   "metadata": {},
   "outputs": [],
   "source": [
    "plt.title('The dataset used for prediction', fontsize=30,color='firebrick')\n",
    "plot_timeseries(1992,2013)"
   ]
  },
  {
   "cell_type": "code",
   "execution_count": null,
   "metadata": {},
   "outputs": [],
   "source": [
    "temp = get_timeseries(1992,2013)\n",
    "N = len(temp.AverageTemperature)\n",
    "split = 0.95\n",
    "training_size = round(split*N)\n",
    "test_size = round((1-split)*N)\n",
    "series = temp.AverageTemperature[:training_size]\n",
    "date = temp.dt[:training_size]\n",
    "test_series = temp.AverageTemperature[len(date)-1:len(temp)]\n",
    "test_date = temp.dt[len(date)-1:len(temp)]\n",
    "#test_date = test_date.reset_index().dt\n",
    "#test_series = test_series.reset_index().AverageTemperature"
   ]
  },
  {
   "cell_type": "code",
   "execution_count": null,
   "metadata": {},
   "outputs": [],
   "source": [
    "test_date"
   ]
  },
  {
   "cell_type": "code",
   "execution_count": null,
   "metadata": {},
   "outputs": [],
   "source": [
    "plot_from_data(series,date,label='Training Set')\n",
    "plot_from_data(test_series,test_date,'navy',with_ticks=False,label='Test Set')\n",
    "plt.legend()"
   ]
  },
  {
   "cell_type": "code",
   "execution_count": null,
   "metadata": {},
   "outputs": [],
   "source": [
    "def optimize_ARIMA(order_list, exog):\n",
    "    \"\"\"\n",
    "        Return dataframe with parameters and corresponding AIC\n",
    "        \n",
    "        order_list - list with (p, d, q) tuples\n",
    "        exog - the exogenous variable\n",
    "    \"\"\"\n",
    "    \n",
    "    results = []\n",
    "    \n",
    "    for order in tqdm_notebook(order_list):\n",
    "        #try: \n",
    "        model = SARIMAX(exog, order=order).fit(disp=-1)\n",
    "    #except:\n",
    "    #        continue\n",
    "            \n",
    "        aic = model.aic\n",
    "        results.append([order, model.aic])\n",
    "    #print(results)\n",
    "    result_df = pd.DataFrame(results)\n",
    "    result_df.columns = ['(p, d, q)', 'AIC']\n",
    "    #Sort in ascending order, lower AIC is better\n",
    "    result_df = result_df.sort_values(by='AIC', ascending=True).reset_index(drop=True)\n",
    "    \n",
    "    return result_df"
   ]
  },
  {
   "cell_type": "code",
   "execution_count": null,
   "metadata": {
    "scrolled": true
   },
   "outputs": [],
   "source": [
    "ps = range(0, 10, 1)\n",
    "d = 0\n",
    "qs = range(0, 10, 1)\n",
    "\n",
    "# Create a list with all possible combination of parameters\n",
    "parameters = product(ps, qs)\n",
    "parameters_list = list(parameters)\n",
    "\n",
    "order_list = []\n",
    "\n",
    "for each in parameters_list:\n",
    "    each = list(each)\n",
    "    each.insert(1, d)\n",
    "    each = tuple(each)\n",
    "    order_list.append(each)\n",
    "    \n",
    "result_d_0 = optimize_ARIMA(order_list, exog = series)\n"
   ]
  },
  {
   "cell_type": "code",
   "execution_count": null,
   "metadata": {},
   "outputs": [],
   "source": [
    "result_d_0.head()"
   ]
  },
  {
   "cell_type": "code",
   "execution_count": null,
   "metadata": {},
   "outputs": [],
   "source": [
    "ps = range(0, 10, 1)\n",
    "d = 1\n",
    "qs = range(0, 10, 1)\n",
    "\n",
    "# Create a list with all possible combination of parameters\n",
    "parameters = product(ps, qs)\n",
    "parameters_list = list(parameters)\n",
    "\n",
    "order_list = []\n",
    "\n",
    "for each in parameters_list:\n",
    "    each = list(each)\n",
    "    each.insert(1, d)\n",
    "    each = tuple(each)\n",
    "    order_list.append(each)\n",
    "    \n",
    "result_d_1 = optimize_ARIMA(order_list, exog = series)\n",
    "\n",
    "result_d_1"
   ]
  },
  {
   "cell_type": "code",
   "execution_count": null,
   "metadata": {},
   "outputs": [],
   "source": [
    "result_d_1.head()"
   ]
  },
  {
   "cell_type": "code",
   "execution_count": null,
   "metadata": {},
   "outputs": [],
   "source": [
    "final_result = result_d_0.append(result_d_1)"
   ]
  },
  {
   "cell_type": "code",
   "execution_count": null,
   "metadata": {},
   "outputs": [],
   "source": [
    "best_models = final_result.sort_values(by='AIC', ascending=True).reset_index(drop=True).head()"
   ]
  },
  {
   "cell_type": "code",
   "execution_count": null,
   "metadata": {},
   "outputs": [],
   "source": [
    "best_model_params_0 = best_models[best_models.columns[0]][0]\n",
    "best_model_params_1 = best_models[best_models.columns[0]][1]"
   ]
  },
  {
   "cell_type": "code",
   "execution_count": null,
   "metadata": {},
   "outputs": [],
   "source": [
    "best_model_0 = SARIMAX(series, order=best_model_params_0).fit()\n",
    "print(best_model_0.summary())\n",
    "best_model_1 = SARIMAX(series, order=best_model_params_1).fit()\n",
    "print(best_model_1.summary())"
   ]
  },
  {
   "cell_type": "markdown",
   "metadata": {},
   "source": [
    "# Model (2,1,5) results:"
   ]
  },
  {
   "cell_type": "code",
   "execution_count": null,
   "metadata": {
    "scrolled": false
   },
   "outputs": [],
   "source": [
    "best_model_0.plot_diagnostics(figsize=(15,12))\n",
    "plt.show()"
   ]
  },
  {
   "cell_type": "markdown",
   "metadata": {},
   "source": [
    "# Model (2,1,6) results:"
   ]
  },
  {
   "cell_type": "code",
   "execution_count": null,
   "metadata": {},
   "outputs": [],
   "source": [
    "best_model_1.plot_diagnostics(figsize=(15,12))\n",
    "plt.show()"
   ]
  },
  {
   "cell_type": "markdown",
   "metadata": {},
   "source": [
    "## Forecasting"
   ]
  },
  {
   "cell_type": "code",
   "execution_count": null,
   "metadata": {},
   "outputs": [],
   "source": [
    "fore_l= test_size-1\n",
    "forecast = best_model_0.get_prediction(start=training_size, end=training_size+fore_l)\n",
    "forec = forecast.predicted_mean\n",
    "ci = forecast.conf_int(alpha=0.05)\n",
    "\n",
    "s_forecast = best_model_1.get_prediction(start=training_size, end=training_size+fore_l)\n",
    "s_forec = s_forecast.predicted_mean\n",
    "s_ci = forecast.conf_int(alpha=0.05)"
   ]
  },
  {
   "cell_type": "code",
   "execution_count": null,
   "metadata": {},
   "outputs": [],
   "source": [
    "error_test=delhi_data.loc[test_date[1:].index.tolist()].AverageTemperatureUncertainty\n",
    "index_test = test_date[1:].index.tolist()\n",
    "test_set = test_series[1:]"
   ]
  },
  {
   "cell_type": "code",
   "execution_count": null,
   "metadata": {},
   "outputs": [],
   "source": [
    "lower_test = test_set-error_test\n",
    "upper_test = test_set+error_test"
   ]
  },
  {
   "cell_type": "code",
   "execution_count": null,
   "metadata": {},
   "outputs": [],
   "source": [
    "fig, ax = plt.subplots(figsize=(16,8), dpi=300)\n",
    "x0 = delhi_data.AverageTemperature.index[0:training_size]\n",
    "x1=delhi_data.AverageTemperature.index[training_size:training_size+fore_l+1]\n",
    "#ax.fill_between(forec, ci['lower Load'], ci['upper Load'])\n",
    "plt.plot(x0, delhi_data.AverageTemperature[0:training_size],'k', label = 'Average Temperature')\n",
    "\n",
    "plt.plot(delhi_data.AverageTemperature[training_size:training_size+fore_l], '.k', label = 'Actual')\n",
    "\n",
    "forec = pd.DataFrame(forec, columns=['f'], index = x1)\n",
    "#forec.f.plot(ax=ax,color = 'Darkorange',label = 'Forecast (d = 2)')\n",
    "#ax.fill_between(x1, ci['lower AverageTemperature'], ci['upper AverageTemperature'],alpha=0.2, label = 'Confidence inerval (95%)',color='grey')\n",
    "\n",
    "s_forec = pd.DataFrame(s_forec, columns=['f'], index = x1)\n",
    "s_forec.f.plot(ax=ax,color = 'firebrick',label = 'Forecast  (2,1,6) model')\n",
    "ax.fill_between(x1, s_ci['lower AverageTemperature'], s_ci['upper AverageTemperature'],alpha=0.2, label = 'Confidence inerval (95%)',color='grey')\n",
    "\n",
    "\n",
    "plt.legend(loc = 'upper left')\n",
    "plt.xlim(80,)\n",
    "plt.xlabel('Index Datapoint')\n",
    "plt.ylabel('Temperature')\n",
    "plt.show()"
   ]
  },
  {
   "cell_type": "code",
   "execution_count": null,
   "metadata": {},
   "outputs": [],
   "source": [
    "#plt.plot(forec)\n",
    "plt.figure(figsize=(12,12))\n",
    "plt.subplot(2,1,1)\n",
    "plt.fill_between(x1, lower_test, upper_test,alpha=0.2, label = 'Test set error range',color='navy')\n",
    "plt.plot(test_set,marker='.',label=\"Actual\",color='navy')\n",
    "plt.plot(forec,marker='d',label=\"Forecast\",color='firebrick')\n",
    "plt.xlabel('Index Datapoint')\n",
    "plt.ylabel('Temperature')\n",
    "#plt.fill_between(x1, s_ci['lower AverageTemperature'], s_ci['upper AverageTemperature'],alpha=0.3, label = 'Confidence inerval (95%)',color='firebrick')\n",
    "plt.legend()\n",
    "plt.subplot(2,1,2)\n",
    "#plt.fill_between(x1, lower_test, upper_test,alpha=0.2, label = 'Test set error range',color='navy')\n",
    "plt.plot(test_set,marker='.',label=\"Actual\",color='navy')\n",
    "plt.plot(s_forec,marker='d',label=\"Forecast\",color='firebrick')\n",
    "plt.fill_between(x1, ci['lower AverageTemperature'], ci['upper AverageTemperature'],alpha=0.3, label = 'Confidence inerval (95%)',color='firebrick')\n",
    "plt.legend()\n",
    "plt.xlabel('Index Datapoint')\n",
    "plt.ylabel('Temperature')"
   ]
  },
  {
   "cell_type": "code",
   "execution_count": null,
   "metadata": {},
   "outputs": [],
   "source": [
    "plt.fill_between(np.arange(0,len(test_set),1), lower_test, upper_test,alpha=0.2, label = 'Test set error range',color='navy')\n",
    "plot_from_data(test_set,test_date,c='navy',label='Actual')\n",
    "plot_from_data(forec['f'],test_date,c='firebrick',label='Forecast')\n",
    "plt.legend(loc=2)"
   ]
  },
  {
   "cell_type": "code",
   "execution_count": null,
   "metadata": {},
   "outputs": [],
   "source": [
    "import jovian \n",
    "jovian.commit()"
   ]
  },
  {
   "cell_type": "code",
   "execution_count": null,
   "metadata": {},
   "outputs": [],
   "source": []
  }
 ],
 "metadata": {
  "kernelspec": {
   "display_name": "Python 3 (ipykernel)",
   "language": "python",
   "name": "python3"
  },
  "language_info": {
   "codemirror_mode": {
    "name": "ipython",
    "version": 3
   },
   "file_extension": ".py",
   "mimetype": "text/x-python",
   "name": "python",
   "nbconvert_exporter": "python",
   "pygments_lexer": "ipython3",
   "version": "3.9.12"
  }
 },
 "nbformat": 4,
 "nbformat_minor": 4
}
